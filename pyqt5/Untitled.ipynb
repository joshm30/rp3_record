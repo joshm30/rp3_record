{
 "cells": [
  {
   "cell_type": "code",
   "execution_count": 14,
   "metadata": {
    "collapsed": true
   },
   "outputs": [],
   "source": [
    "from PyQt5.QtWidgets import (QApplication, QComboBox, QDialog,\n",
    "        QDialogButtonBox, QFormLayout, QGridLayout, QGroupBox, QHBoxLayout,\n",
    "        QLabel, QLineEdit, QMenu, QMenuBar, QPushButton, QSpinBox, QTextEdit,\n",
    "        QVBoxLayout, QInputDialog)\n",
    "from PyQt5.QtCore import pyqtSlot, pyqtSignal\n",
    "import sys\n",
    "import pyaudio\n",
    "import wave"
   ]
  },
  {
   "cell_type": "code",
   "execution_count": 2,
   "metadata": {
    "scrolled": true
   },
   "outputs": [
    {
     "ename": "SystemExit",
     "evalue": "0",
     "output_type": "error",
     "traceback": [
      "An exception has occurred, use %tb to see the full traceback.\n",
      "\u001b[0;31mSystemExit\u001b[0m\u001b[0;31m:\u001b[0m 0\n"
     ]
    },
    {
     "name": "stderr",
     "output_type": "stream",
     "text": [
      "/usr/local/lib/python3.6/site-packages/IPython/core/interactiveshell.py:2870: UserWarning: To exit: use 'exit', 'quit', or Ctrl-D.\n",
      "  warn(\"To exit: use 'exit', 'quit', or Ctrl-D.\", stacklevel=1)\n"
     ]
    }
   ],
   "source": [
    "class Dialog(QDialog):\n",
    "    NumGridRows = 3\n",
    "    NumButtons = 4\n",
    " \n",
    "    def __init__(self):\n",
    "        super(Dialog, self).__init__()\n",
    "        self.createFormGroupBox()\n",
    "        self.left = 10\n",
    "        self.top = 10\n",
    "        self.width = 320\n",
    "        self.height = 200\n",
    "        buttonBox = QDialogButtonBox(QDialogButtonBox.Ok | QDialogButtonBox.Cancel)\n",
    "        buttonBox.accepted.connect(self.accept)\n",
    "        buttonBox.rejected.connect(self.reject)\n",
    "    \n",
    "        mainLayout = QVBoxLayout()\n",
    "        mainLayout.addWidget(self.formGroupBox)\n",
    "        # mainLayout.addWidget(buttonBox)\n",
    "        self.setLayout(mainLayout)\n",
    " \n",
    "        self.setWindowTitle(\"Record for time\")\n",
    " \n",
    "    def createFormGroupBox(self):\n",
    "        self.formGroupBox = QGroupBox(\"\")\n",
    "        layout = QFormLayout()\n",
    "        # SPINNER STUFF\n",
    "        spinner = QSpinBox()\n",
    "        layout.addRow(QLabel(\"Sec:\"), spinner)\n",
    "        # spinner.setStyleSheet(\"QSpinBox::up-button { subcontrol-position: right; right: 40px; width: 40px; height: 35px;}  QSpinBox { border: 3px outset grey;padding-right: 40px;}  QSpinBox::down-button { subcontrol-position: right; width: 40px; height: 35px;} \")\n",
    "        spinner.setStyleSheet(\"QSpinBox { border: 3px inset grey; width:100px; height:50px;} QSpinBox::up-button { subcontrol-position: left; width: 40px; height: 35px;}  QSpinBox::down-button { subcontrol-position: right; width: 40px; height: 35px;}\")\n",
    "        spinner.setValue(4)\n",
    "        # changedTime = pyqtSignal(int)\n",
    "        # self.spinner.valueChanged.connect(print(value()))\n",
    "        # BUTTON STUFF\n",
    "        button = QPushButton('Record')\n",
    "        button.clicked.connect(self.recSound)\n",
    "        button.setStyleSheet(\"background-color: #cc3a33; border: none; font-weight:bold; height:100px;\") \n",
    "        layout.addRow(button)\n",
    "        self.formGroupBox.setLayout(layout)\n",
    "\n",
    "    @pyqtSlot()    \n",
    "    def recSound(self):\n",
    "        # This records an audio file\n",
    "        CHUNK = 512\n",
    "        FORMAT = pyaudio.paInt16 #paInt8\n",
    "        CHANNELS = 1\n",
    "        RATE = 44100 #sample rate\n",
    "        RECORD_SECONDS = 5\n",
    "        WAVE_OUTPUT_FILENAME = \"rp3audio/rp3output.wav\"\n",
    "        p = pyaudio.PyAudio()\n",
    "        stream = p.open(format=FORMAT,\n",
    "                        channels=CHANNELS,\n",
    "                        rate=RATE,\n",
    "                        input=True,\n",
    "                        frames_per_buffer=CHUNK) #buffer\n",
    "        print(\"* recording\")\n",
    "        frames = []\n",
    "        for i in range(0, int(RATE / CHUNK * RECORD_SECONDS)):\n",
    "\n",
    "            data = stream.read(CHUNK)\n",
    "            frames.append(data) # 2 bytes(16 bits) per channel\n",
    "        print(\"* done recording\")\n",
    "        stream.stop_stream()\n",
    "        stream.close()\n",
    "        p.terminate()\n",
    "        wf = wave.open(WAVE_OUTPUT_FILENAME, 'wb')\n",
    "        wf.setnchannels(CHANNELS)\n",
    "        wf.setsampwidth(p.get_sample_size(FORMAT))\n",
    "        wf.setframerate(RATE)\n",
    "        wf.writeframes(b''.join(frames))\n",
    "        wf.close()\n",
    "        return;\n",
    " \n",
    " \n",
    "if __name__ == '__main__':\n",
    "    app = QApplication(sys.argv)\n",
    "    dialog = Dialog()\n",
    "sys.exit(dialog.exec_())"
   ]
  },
  {
   "cell_type": "code",
   "execution_count": 16,
   "metadata": {},
   "outputs": [
    {
     "ename": "SyntaxError",
     "evalue": "invalid syntax (<ipython-input-16-4688a9366130>, line 1)",
     "output_type": "error",
     "traceback": [
      "\u001b[0;36m  File \u001b[0;32m\"<ipython-input-16-4688a9366130>\"\u001b[0;36m, line \u001b[0;32m1\u001b[0m\n\u001b[0;31m    connect()?\u001b[0m\n\u001b[0m             ^\u001b[0m\n\u001b[0;31mSyntaxError\u001b[0m\u001b[0;31m:\u001b[0m invalid syntax\n"
     ]
    }
   ],
   "source": [
    "connect()?"
   ]
  },
  {
   "cell_type": "code",
   "execution_count": null,
   "metadata": {
    "collapsed": true
   },
   "outputs": [],
   "source": []
  }
 ],
 "metadata": {
  "kernelspec": {
   "display_name": "Python 3",
   "language": "python",
   "name": "python3"
  },
  "language_info": {
   "codemirror_mode": {
    "name": "ipython",
    "version": 3
   },
   "file_extension": ".py",
   "mimetype": "text/x-python",
   "name": "python",
   "nbconvert_exporter": "python",
   "pygments_lexer": "ipython3",
   "version": "3.6.2"
  }
 },
 "nbformat": 4,
 "nbformat_minor": 2
}
